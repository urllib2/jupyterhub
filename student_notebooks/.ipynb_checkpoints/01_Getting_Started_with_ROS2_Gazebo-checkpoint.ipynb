{
 "cells": [
  {
   "cell_type": "markdown",
   "metadata": {},
   "source": [
    "# Getting Started with ROS2 and Gazebo\n",
    "\n",
    "Welcome to your ROS2 and Gazebo learning environment!\n",
    "\n",
    "## Access Points\n",
    "- **Gazebo GUI**: Access via noVNC at http://localhost:6080/vnc.html\n",
    "- **This Notebook**: You're here! Use this for coding and experiments.\n",
    "\n",
    "## Quick Start Guide\n",
    "\n",
    "### 1. Test ROS2 Installation"
   ]
  },
  {
   "cell_type": "code",
   "execution_count": null,
   "metadata": {},
   "source": [
    "import subprocess\n",
    "import os\n",
    "\n",
    "# Source ROS2 environment\n",
    "os.environ['ROS_DISTRO'] = 'jazzy'\n",
    "result = subprocess.run(['bash', '-c', 'source /opt/ros/jazzy/setup.bash && ros2 --version'], \n",
    "                       capture_output=True, text=True)\n",
    "print(\"ROS2 Version:\")\n",
    "print(result.stdout)"
   ],
   "outputs": []
  },
  {
   "cell_type": "markdown",
   "metadata": {},
   "source": [
    "### 2. Launch Simple Gazebo World\n",
    "\n",
    "Run this to start a basic simulation. Then check the GUI via noVNC!"
   ]
  },
  {
   "cell_type": "code",
   "execution_count": null,
   "metadata": {},
   "source": [
    "# Launch Gazebo with simple world (runs in background)\n",
    "launch_cmd = '''cd /home/jovyan && \n",
    "source /opt/ros/jazzy/setup.bash && \n",
    "DISPLAY=:1 gz sim /home/jovyan/gazebo_worlds/simple_world.sdf &'''\n",
    "\n",
    "subprocess.Popen(['bash', '-c', launch_cmd])\n",
    "print(\"✓ Gazebo launched! Check the GUI at http://localhost:6080/vnc.html\")\n",
    "print(\"📍 You should see a red box in the simulation\")"
   ],
   "outputs": []
  },
  {
   "cell_type": "markdown",
   "metadata": {},
   "source": [
    "### 3. List ROS2 Topics\n",
    "\n",
    "See what topics are available from the running simulation:"
   ]
  },
  {
   "cell_type": "code",
   "execution_count": null,
   "metadata": {},
   "source": [
    "result = subprocess.run(['bash', '-c', 'source /opt/ros/jazzy/setup.bash && ros2 topic list'], \n",
    "                       capture_output=True, text=True)\n",
    "print(\"Available ROS2 Topics:\")\n",
    "print(result.stdout)"
   ],
   "outputs": []
  },
  {
   "cell_type": "markdown",
   "metadata": {},
   "source": [
    "### 4. Next Steps\n",
    "\n",
    "🎯 **What to do next:**\n",
    "1. Open the GUI at http://localhost:6080/vnc.html\n",
    "2. Play around with the Gazebo interface\n",
    "3. Try creating your own robot models\n",
    "4. Experiment with ROS2 topics and services\n",
    "\n",
    "📚 **Learning Resources:**\n",
    "- [ROS2 Tutorials](https://docs.ros.org/en/jazzy/Tutorials.html)\n",
    "- [Gazebo Tutorials](https://gazebosim.org/docs)\n",
    "\n",
    "Happy learning! 🚀"
   ]
  }
 ],
 "metadata": {
  "kernelspec": {
   "display_name": "Python 3",
   "language": "python",
   "name": "python3"
  },
  "language_info": {
   "codemirror_mode": {
    "name": "ipython",
    "version": 3
   },
   "file_extension": ".py",
   "mimetype": "text/x-python",
   "name": "python",
   "nbconvert_exporter": "python",
   "pygments_lexer": "ipython3",
   "version": "3.12.0"
  }
 },
 "nbformat": 4,
 "nbformat_minor": 4
}
