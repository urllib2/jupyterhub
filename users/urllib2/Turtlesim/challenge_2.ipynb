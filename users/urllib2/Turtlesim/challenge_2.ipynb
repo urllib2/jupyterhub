{
 "cells": [
  {
   "cell_type": "markdown",
   "id": "51a035ee",
   "metadata": {},
   "source": [
    "# 🚀 Challenge 2: ROS2 Publisher & Subscriber Interaction\n",
    "\n",
    "### 🎯 Goal\n",
    "Understand how **two ROS2 nodes** communicate using a **Publisher** and a **Subscriber**."
   ]
  },
  {
   "cell_type": "markdown",
   "id": "d61b75c7",
   "metadata": {},
   "source": [
    "## 📝 Task Description\n",
    "- Create **two nodes**:\n",
    "  1. **Publisher Node**: publishes an increasing number every second.\n",
    "  2. **Subscriber Node**: receives the number and prints whether it is **even** or **odd**.\n",
    "\n",
    "- **Topic**: `/numbers`\n",
    "- **Message type**: `std_msgs/msg/Int32`"
   ]
  },
  {
   "cell_type": "code",
   "execution_count": null,
   "id": "0fdacb8e",
   "metadata": {},
   "outputs": [],
   "source": [
    "%%writefile counter_publisher.py\n",
    "import rclpy\n",
    "from rclpy.node import Node\n",
    "from std_msgs.msg import Int32\n",
    "\n",
    "class CounterPublisher(Node):\n",
    "    def __init__(self):\n",
    "        super().__init__('counter_publisher')\n",
    "        self.publisher_ = self.create_publisher(Int32, 'numbers', 10)\n",
    "        self.timer = self.create_timer(1.0, self.timer_callback)\n",
    "        self.count = 1\n",
    "\n",
    "    def timer_callback(self):\n",
    "        msg = Int32()\n",
    "        msg.data = self.count\n",
    "        self.publisher_.publish(msg)\n",
    "        self.get_logger().info(f'Published: {msg.data}')\n",
    "        self.count += 1\n",
    "\n",
    "def main(args=None):\n",
    "    rclpy.init(args=args)\n",
    "    node = CounterPublisher()\n",
    "    rclpy.spin(node)\n",
    "    node.destroy_node()\n",
    "    rclpy.shutdown()\n",
    "\n",
    "if __name__ == '__main__':\n",
    "    main()"
   ]
  },
  {
   "cell_type": "code",
   "execution_count": null,
   "id": "276574ae",
   "metadata": {},
   "outputs": [],
   "source": [
    "%%writefile parity_checker.py\n",
    "import rclpy\n",
    "from rclpy.node import Node\n",
    "from std_msgs.msg import Int32\n",
    "\n",
    "class ParityChecker(Node):\n",
    "    def __init__(self):\n",
    "        super().__init__('parity_checker')\n",
    "        self.subscription = self.create_subscription(\n",
    "            Int32,\n",
    "            'numbers',\n",
    "            self.listener_callback,\n",
    "            10)\n",
    "\n",
    "    def listener_callback(self, msg):\n",
    "        if msg.data % 2 == 0:\n",
    "            self.get_logger().info(f'✅ Even number: {msg.data}')\n",
    "        else:\n",
    "            self.get_logger().info(f'🔹 Odd number: {msg.data}')\n",
    "\n",
    "def main(args=None):\n",
    "    rclpy.init(args=args)\n",
    "    node = ParityChecker()\n",
    "    rclpy.spin(node)\n",
    "    node.destroy_node()\n",
    "    rclpy.shutdown()\n",
    "\n",
    "if __name__ == '__main__':\n",
    "    main()"
   ]
  },
  {
   "cell_type": "markdown",
   "id": "b43070f3",
   "metadata": {},
   "source": [
    "## ▶️ How to Run\n",
    "1. Open **two terminals**.\n",
    "2. In the first one:\n",
    "```bash\n",
    "ros2 run my_package counter_publisher\n",
    "```\n",
    "3. In the second one:\n",
    "```bash\n",
    "ros2 run my_package parity_checker\n",
    "```\n",
    "4. Observe the subscriber printing if the numbers are **even** or **odd**."
   ]
  },
  {
   "cell_type": "markdown",
   "id": "2b917060",
   "metadata": {},
   "source": [
    "## 💡 Extra Challenge\n",
    "- Modify the subscriber so it **ignores odd numbers** and only prints even ones.\n",
    "- Or extend it to **count how many even and odd numbers** have been received so far."
   ]
  }
 ],
 "metadata": {
  "kernelspec": {
   "display_name": "Python 3 (ipykernel)",
   "language": "python",
   "name": "python3"
  },
  "language_info": {
   "codemirror_mode": {
    "name": "ipython",
    "version": 3
   },
   "file_extension": ".py",
   "mimetype": "text/x-python",
   "name": "python",
   "nbconvert_exporter": "python",
   "pygments_lexer": "ipython3",
   "version": "3.12.3"
  }
 },
 "nbformat": 4,
 "nbformat_minor": 5
}
