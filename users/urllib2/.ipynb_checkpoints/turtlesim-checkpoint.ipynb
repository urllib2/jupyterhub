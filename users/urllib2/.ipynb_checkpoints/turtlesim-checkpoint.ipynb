{
 "cells": [
  {
   "cell_type": "markdown",
   "id": "a7068020-a538-4db3-afbc-9276b83ba57f",
   "metadata": {},
   "source": [
    "Run these commands in a Terminator:\n",
    "ros2 pkg list|grep turtle\n",
    "ros2 run turtlesim turtlesim_node \n",
    "Split the screen vertically with ctrl+shift+e\n",
    "ros2 topic list\n",
    "rqt_graph"
   ]
  },
  {
   "cell_type": "code",
   "execution_count": 1,
   "id": "104d7f87-250f-46ed-bf6a-d9d2efee7edd",
   "metadata": {},
   "outputs": [
    {
     "name": "stdout",
     "output_type": "stream",
     "text": [
      "Could not clean workspace: Command '['ros2', 'service', 'call', '/clear', 'std_srvs/srv/Empty']' timed out after 3 seconds\n",
      "Setup complete - workspace cleaned and controller ready\n"
     ]
    },
    {
     "name": "stderr",
     "output_type": "stream",
     "text": [
      "[WARN] [1758141270.075343015] [rcl]: ROS_LOCALHOST_ONLY is deprecated but still honored if it is enabled. Use ROS_AUTOMATIC_DISCOVERY_RANGE and ROS_STATIC_PEERS instead.\n",
      "[WARN] [1758141270.075369435] [rcl]: 'localhost_only' is disabled, 'automatic_discovery_range' and 'static_peers' will be used.\n"
     ]
    }
   ],
   "source": [
    "import rclpy\n",
    "from rclpy.node import Node\n",
    "from geometry_msgs.msg import Twist\n",
    "from turtlesim.msg import Pose\n",
    "import subprocess\n",
    "import time\n",
    "import threading\n",
    "import ipywidgets as widgets\n",
    "from IPython.display import display, clear_output\n",
    "\n",
    "# Clean turtlesim workspace\n",
    "def reset_turtlesim():\n",
    "    \"\"\"Reset turtlesim to clean state\"\"\"\n",
    "    try:\n",
    "        subprocess.run(['ros2', 'service', 'call', '/reset', 'std_srvs/srv/Empty'], \n",
    "                      capture_output=True, timeout=3)\n",
    "        subprocess.run(['ros2', 'service', 'call', '/clear', 'std_srvs/srv/Empty'], \n",
    "                      capture_output=True, timeout=3)\n",
    "        print(\"Turtlesim workspace cleaned successfully\")\n",
    "    except Exception as e:\n",
    "        print(f\"Could not clean workspace: {e}\")\n",
    "\n",
    "# Run cleanup\n",
    "reset_turtlesim()\n",
    "\n",
    "# Basic node setup for exercises\n",
    "class TurtleController(Node):\n",
    "    def __init__(self):\n",
    "        super().__init__('turtle_workshop_controller')\n",
    "        self.cmd_pub = self.create_publisher(Twist, '/turtle1/cmd_vel', 10)\n",
    "        self.pose_sub = self.create_subscription(Pose, '/turtle1/pose', self.pose_callback, 10)\n",
    "        self.current_pose = None\n",
    "        \n",
    "    def pose_callback(self, msg):\n",
    "        self.current_pose = msg\n",
    "        \n",
    "    def send_command(self, linear, angular):\n",
    "        msg = Twist()\n",
    "        msg.linear.x = float(linear)\n",
    "        msg.angular.z = float(angular)\n",
    "        self.cmd_pub.publish(msg)\n",
    "\n",
    "if not rclpy.ok():\n",
    "    rclpy.init()\n",
    "\n",
    "controller = TurtleController()\n",
    "\n",
    "def spin_node():\n",
    "    rclpy.spin(controller)\n",
    "\n",
    "threading.Thread(target=spin_node, daemon=True).start()\n",
    "print(\"Setup complete - workspace cleaned and controller ready\")"
   ]
  },
  {
   "cell_type": "code",
   "execution_count": null,
   "id": "a9deda52-5a11-4d85-95b2-0906d44093fe",
   "metadata": {},
   "outputs": [],
   "source": []
  },
  {
   "cell_type": "code",
   "execution_count": null,
   "id": "1d91bc23-8d4e-413d-b943-08947981ded3",
   "metadata": {},
   "outputs": [],
   "source": []
  }
 ],
 "metadata": {
  "kernelspec": {
   "display_name": "Python 3 (ipykernel)",
   "language": "python",
   "name": "python3"
  },
  "language_info": {
   "codemirror_mode": {
    "name": "ipython",
    "version": 3
   },
   "file_extension": ".py",
   "mimetype": "text/x-python",
   "name": "python",
   "nbconvert_exporter": "python",
   "pygments_lexer": "ipython3",
   "version": "3.12.3"
  }
 },
 "nbformat": 4,
 "nbformat_minor": 5
}
