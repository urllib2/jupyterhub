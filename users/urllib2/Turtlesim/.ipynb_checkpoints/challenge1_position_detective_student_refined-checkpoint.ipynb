{
 "cells": [
  {
   "cell_type": "markdown",
   "id": "f5f6dfe9",
   "metadata": {},
   "source": [
    "# 🕵️‍♂️ Challenge 1 — Position Detective\n",
    "\n",
    "In this challenge, you will **detect the turtle’s position** in the ROS2 simulation.  \n",
    "This is your first step in learning how robots **perceive themselves in the world**!\n",
    "\n",
    "---\n",
    "\n",
    "⚠️ **Before starting**: make sure you have already run the **Challenge Foundation Setup** notebook.\n"
   ]
  },
  {
   "cell_type": "markdown",
   "id": "119ceb6f",
   "metadata": {},
   "source": [
    "🎥 **Watch this short video first**:  \n",
    "👉 [Intro to Position Detection (placeholder link)](https://example.com)\n",
    "\n",
    "In robotics, knowing *where you are* is the foundation for navigation.  \n",
    "In ROS2, we do this by **subscribing to topics** like `/turtle1/pose`.\n"
   ]
  },
  {
   "cell_type": "markdown",
   "id": "3d95f844",
   "metadata": {},
   "source": [
    "## 📌 Step 1: Understand the Goal\n",
    "\n",
    "- The turtle publishes its **position and orientation** on the topic `/turtle1/pose`.  \n",
    "- The message type is [`turtlesim/msg/Pose`](https://docs.ros2.org/latest/api/turtlesim/msg/Pose.html).  \n",
    "- Your job: **subscribe** to this topic and print the turtle’s position whenever it moves.\n",
    "\n",
    "---\n"
   ]
  },
  {
   "cell_type": "code",
   "execution_count": null,
   "id": "7f5ba1f1",
   "metadata": {},
   "outputs": [],
   "source": [
    "import rclpy\n",
    "from rclpy.node import Node\n",
    "from turtlesim.msg import Pose\n",
    "\n",
    "class PositionDetector(Node):\n",
    "    def __init__(self):\n",
    "        super().__init__('position_detector')\n",
    "        \n",
    "        # TODO: Subscribe to the correct topic with the correct message type\n",
    "        self.pose_subscriber = self.create_subscription(\n",
    "            ___,          # message type\n",
    "            '___',        # topic name\n",
    "            self.pose_callback,\n",
    "            10\n",
    "        )\n",
    "    \n",
    "    def pose_callback(self, msg):\n",
    "        # TODO: Print the turtle's x and y position from the message\n",
    "        self.get_logger().info(f\"Turtle is at: (___, ___)\")\n",
    "\n",
    "def main(args=None):\n",
    "    rclpy.init(args=args)\n",
    "    node = PositionDetector()\n",
    "    rclpy.spin(node)\n",
    "    node.destroy_node()\n",
    "    rclpy.shutdown()\n",
    "\n",
    "if __name__ == '__main__':\n",
    "    main()\n"
   ]
  },
  {
   "cell_type": "markdown",
   "id": "319cb096",
   "metadata": {},
   "source": [
    "## 🧪 Step 3: Test Your Subscriber\n",
    "\n",
    "1. Run the cell above to launch your subscriber node.  \n",
    "2. In another terminal (or in a notebook cell), move the turtle with:  \n",
    "\n",
    "```bash\n",
    "ros2 topic pub /turtle1/cmd_vel geometry_msgs/msg/Twist \"{linear: {x: 2.0}, angular: {z: 1.8}}\"\n",
    "```\n",
    "\n",
    "3. ✅ If your code is correct, you should see position updates printed in the notebook logs.\n",
    "\n",
    "---\n"
   ]
  },
  {
   "cell_type": "markdown",
   "id": "8cc5784b",
   "metadata": {},
   "source": [
    "## 💡 Reflection\n",
    "\n",
    "- Which **ROS2 concepts** did you practice in this challenge?  \n",
    "- Why is subscribing to `/turtle1/pose` important for real robots?  \n"
   ]
  }
 ],
 "metadata": {},
 "nbformat": 4,
 "nbformat_minor": 5
}
